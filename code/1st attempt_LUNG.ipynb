{
 "cells": [
  {
   "cell_type": "code",
   "execution_count": 1,
   "metadata": {},
   "outputs": [],
   "source": [
    "import xgboost as xgb ## XGBoost 불러오기\n",
    "from xgboost import plot_importance ## Feature Importance를 불러오기 위함\n",
    "import pandas as pd\n",
    "import numpy as np\n",
    "from sklearn.datasets import load_breast_cancer\n",
    "from sklearn.model_selection import train_test_split\n",
    "from sklearn.metrics import confusion_matrix, accuracy_score, precision_score, recall_score\n",
    "from sklearn.metrics import confusion_matrix, f1_score, roc_auc_score"
   ]
  },
  {
   "cell_type": "code",
   "execution_count": 2,
   "metadata": {},
   "outputs": [],
   "source": [
    "data=pd.read_csv('C:/Users/dudtj/OneDrive - 숭실대학교 - Soongsil University/Desktop/CL/python/동계인턴십_Data_1000/phenotype_1000.txt',engine=\"python\",sep=\" \")"
   ]
  },
  {
   "cell_type": "code",
   "execution_count": 3,
   "metadata": {},
   "outputs": [
    {
     "data": {
      "text/html": [
       "<div>\n",
       "<style scoped>\n",
       "    .dataframe tbody tr th:only-of-type {\n",
       "        vertical-align: middle;\n",
       "    }\n",
       "\n",
       "    .dataframe tbody tr th {\n",
       "        vertical-align: top;\n",
       "    }\n",
       "\n",
       "    .dataframe thead th {\n",
       "        text-align: right;\n",
       "    }\n",
       "</style>\n",
       "<table border=\"1\" class=\"dataframe\">\n",
       "  <thead>\n",
       "    <tr style=\"text-align: right;\">\n",
       "      <th></th>\n",
       "      <th>AGE_B</th>\n",
       "      <th>SMOK_B</th>\n",
       "      <th>ALCO_B</th>\n",
       "      <th>EXER_B</th>\n",
       "      <th>HT_B</th>\n",
       "      <th>WT_B</th>\n",
       "      <th>WAIST_B</th>\n",
       "      <th>SBP_B</th>\n",
       "      <th>DBP_B</th>\n",
       "      <th>CHO_B</th>\n",
       "      <th>...</th>\n",
       "      <th>STOMA</th>\n",
       "      <th>COLON</th>\n",
       "      <th>LIVER</th>\n",
       "      <th>LUNG</th>\n",
       "      <th>PROST</th>\n",
       "      <th>THROI</th>\n",
       "      <th>BREAC</th>\n",
       "      <th>RECTM</th>\n",
       "      <th>SEX1</th>\n",
       "      <th>CRC</th>\n",
       "    </tr>\n",
       "  </thead>\n",
       "  <tbody>\n",
       "    <tr>\n",
       "      <th>0</th>\n",
       "      <td>48</td>\n",
       "      <td>3.0</td>\n",
       "      <td>2.0</td>\n",
       "      <td>1.0</td>\n",
       "      <td>168.0</td>\n",
       "      <td>69.8</td>\n",
       "      <td>82.0</td>\n",
       "      <td>102.0</td>\n",
       "      <td>69.0</td>\n",
       "      <td>196.0</td>\n",
       "      <td>...</td>\n",
       "      <td>0</td>\n",
       "      <td>0</td>\n",
       "      <td>0</td>\n",
       "      <td>0</td>\n",
       "      <td>0</td>\n",
       "      <td>0</td>\n",
       "      <td>0</td>\n",
       "      <td>0</td>\n",
       "      <td>1</td>\n",
       "      <td>0</td>\n",
       "    </tr>\n",
       "    <tr>\n",
       "      <th>1</th>\n",
       "      <td>53</td>\n",
       "      <td>1.0</td>\n",
       "      <td>2.0</td>\n",
       "      <td>1.0</td>\n",
       "      <td>161.0</td>\n",
       "      <td>67.9</td>\n",
       "      <td>86.0</td>\n",
       "      <td>127.0</td>\n",
       "      <td>67.0</td>\n",
       "      <td>159.0</td>\n",
       "      <td>...</td>\n",
       "      <td>0</td>\n",
       "      <td>0</td>\n",
       "      <td>0</td>\n",
       "      <td>0</td>\n",
       "      <td>0</td>\n",
       "      <td>0</td>\n",
       "      <td>1</td>\n",
       "      <td>0</td>\n",
       "      <td>2</td>\n",
       "      <td>0</td>\n",
       "    </tr>\n",
       "    <tr>\n",
       "      <th>2</th>\n",
       "      <td>60</td>\n",
       "      <td>1.0</td>\n",
       "      <td>1.0</td>\n",
       "      <td>2.0</td>\n",
       "      <td>153.0</td>\n",
       "      <td>73.3</td>\n",
       "      <td>97.0</td>\n",
       "      <td>133.0</td>\n",
       "      <td>76.0</td>\n",
       "      <td>198.0</td>\n",
       "      <td>...</td>\n",
       "      <td>0</td>\n",
       "      <td>0</td>\n",
       "      <td>0</td>\n",
       "      <td>0</td>\n",
       "      <td>0</td>\n",
       "      <td>0</td>\n",
       "      <td>0</td>\n",
       "      <td>0</td>\n",
       "      <td>2</td>\n",
       "      <td>0</td>\n",
       "    </tr>\n",
       "    <tr>\n",
       "      <th>3</th>\n",
       "      <td>42</td>\n",
       "      <td>1.0</td>\n",
       "      <td>2.0</td>\n",
       "      <td>2.0</td>\n",
       "      <td>167.0</td>\n",
       "      <td>65.1</td>\n",
       "      <td>77.5</td>\n",
       "      <td>97.0</td>\n",
       "      <td>70.0</td>\n",
       "      <td>139.0</td>\n",
       "      <td>...</td>\n",
       "      <td>1</td>\n",
       "      <td>0</td>\n",
       "      <td>0</td>\n",
       "      <td>0</td>\n",
       "      <td>0</td>\n",
       "      <td>0</td>\n",
       "      <td>0</td>\n",
       "      <td>0</td>\n",
       "      <td>1</td>\n",
       "      <td>0</td>\n",
       "    </tr>\n",
       "    <tr>\n",
       "      <th>4</th>\n",
       "      <td>57</td>\n",
       "      <td>3.0</td>\n",
       "      <td>2.0</td>\n",
       "      <td>2.0</td>\n",
       "      <td>165.0</td>\n",
       "      <td>51.8</td>\n",
       "      <td>73.0</td>\n",
       "      <td>98.0</td>\n",
       "      <td>76.0</td>\n",
       "      <td>166.0</td>\n",
       "      <td>...</td>\n",
       "      <td>0</td>\n",
       "      <td>0</td>\n",
       "      <td>0</td>\n",
       "      <td>0</td>\n",
       "      <td>0</td>\n",
       "      <td>0</td>\n",
       "      <td>0</td>\n",
       "      <td>0</td>\n",
       "      <td>1</td>\n",
       "      <td>0</td>\n",
       "    </tr>\n",
       "  </tbody>\n",
       "</table>\n",
       "<p>5 rows × 31 columns</p>\n",
       "</div>"
      ],
      "text/plain": [
       "   AGE_B  SMOK_B  ALCO_B  EXER_B   HT_B  WT_B  WAIST_B  SBP_B  DBP_B  CHO_B  \\\n",
       "0     48     3.0     2.0     1.0  168.0  69.8     82.0  102.0   69.0  196.0   \n",
       "1     53     1.0     2.0     1.0  161.0  67.9     86.0  127.0   67.0  159.0   \n",
       "2     60     1.0     1.0     2.0  153.0  73.3     97.0  133.0   76.0  198.0   \n",
       "3     42     1.0     2.0     2.0  167.0  65.1     77.5   97.0   70.0  139.0   \n",
       "4     57     3.0     2.0     2.0  165.0  51.8     73.0   98.0   76.0  166.0   \n",
       "\n",
       "   ...  STOMA  COLON  LIVER  LUNG  PROST  THROI  BREAC  RECTM  SEX1  CRC  \n",
       "0  ...      0      0      0     0      0      0      0      0     1    0  \n",
       "1  ...      0      0      0     0      0      0      1      0     2    0  \n",
       "2  ...      0      0      0     0      0      0      0      0     2    0  \n",
       "3  ...      1      0      0     0      0      0      0      0     1    0  \n",
       "4  ...      0      0      0     0      0      0      0      0     1    0  \n",
       "\n",
       "[5 rows x 31 columns]"
      ]
     },
     "execution_count": 3,
     "metadata": {},
     "output_type": "execute_result"
    }
   ],
   "source": [
    "df=data.loc[:,['AGE_B', 'SMOK_B', 'ALCO_B','EXER_B','HT_B', 'WT_B', 'WAIST_B', 'SBP_B', 'DBP_B', 'CHO_B','LDL_B', 'TG_B', 'HDL_B', 'FBS_B', 'GOT_B', 'GPT_B', 'GGT_B', 'URIC_B','BIL', 'WBC', 'CREAT', 'STOMA', 'COLON', 'LIVER', 'LUNG','PROST', 'THROI', 'BREAC', 'RECTM','SEX1', 'CRC']]\n",
    "df.head()"
   ]
  },
  {
   "cell_type": "code",
   "execution_count": 5,
   "metadata": {},
   "outputs": [
    {
     "ename": "NameError",
     "evalue": "name 'plt' is not defined",
     "output_type": "error",
     "traceback": [
      "\u001b[1;31m---------------------------------------------------------------------------\u001b[0m",
      "\u001b[1;31mNameError\u001b[0m                                 Traceback (most recent call last)",
      "\u001b[1;32m<ipython-input-5-5f16d0be2789>\u001b[0m in \u001b[0;36m<module>\u001b[1;34m\u001b[0m\n\u001b[0;32m      1\u001b[0m \u001b[1;32mimport\u001b[0m \u001b[0mseaborn\u001b[0m \u001b[1;32mas\u001b[0m \u001b[0msns\u001b[0m\u001b[1;33m\u001b[0m\u001b[1;33m\u001b[0m\u001b[0m\n\u001b[1;32m----> 2\u001b[1;33m \u001b[0mfig\u001b[0m\u001b[1;33m,\u001b[0m \u001b[0max\u001b[0m \u001b[1;33m=\u001b[0m \u001b[0mplt\u001b[0m\u001b[1;33m.\u001b[0m\u001b[0msubplots\u001b[0m\u001b[1;33m(\u001b[0m\u001b[0mfigsize\u001b[0m \u001b[1;33m=\u001b[0m \u001b[1;33m(\u001b[0m\u001b[1;36m12\u001b[0m\u001b[1;33m,\u001b[0m \u001b[1;36m12\u001b[0m\u001b[1;33m)\u001b[0m\u001b[1;33m)\u001b[0m\u001b[1;33m\u001b[0m\u001b[1;33m\u001b[0m\u001b[0m\n\u001b[0m\u001b[0;32m      3\u001b[0m \u001b[0msns\u001b[0m\u001b[1;33m.\u001b[0m\u001b[0mheatmap\u001b[0m\u001b[1;33m(\u001b[0m\u001b[0mdf\u001b[0m\u001b[1;33m.\u001b[0m\u001b[0mcorr\u001b[0m\u001b[1;33m(\u001b[0m\u001b[1;33m)\u001b[0m\u001b[1;33m,\u001b[0m \u001b[0mannot\u001b[0m\u001b[1;33m=\u001b[0m\u001b[1;32mTrue\u001b[0m\u001b[1;33m,\u001b[0m \u001b[0mfmt\u001b[0m \u001b[1;33m=\u001b[0m \u001b[1;34m'.1f'\u001b[0m\u001b[1;33m,\u001b[0m \u001b[0max\u001b[0m \u001b[1;33m=\u001b[0m \u001b[0max\u001b[0m\u001b[1;33m)\u001b[0m\u001b[1;33m\u001b[0m\u001b[1;33m\u001b[0m\u001b[0m\n",
      "\u001b[1;31mNameError\u001b[0m: name 'plt' is not defined"
     ]
    }
   ],
   "source": [
    "\n",
    "import seaborn as sns\n",
    "fig, ax = plt.subplots(figsize = (12, 12))\n",
    "sns.heatmap(df.corr(), annot=True, fmt = '.1f', ax = ax)"
   ]
  },
  {
   "cell_type": "code",
   "execution_count": null,
   "metadata": {},
   "outputs": [],
   "source": [
    "df.dropna(inplace=True)"
   ]
  },
  {
   "cell_type": "markdown",
   "metadata": {},
   "source": [
    "train/test data set 분할\n",
    "먼저 전체 데이터 프레임에서 타겟값을 제외한 나머지 columns을 X_df로 설정하고, LUNG을 y_df로 설정한다."
   ]
  },
  {
   "cell_type": "code",
   "execution_count": null,
   "metadata": {},
   "outputs": [],
   "source": [
    "#폐암 \n",
    "features=['LUNG','STOMA','COLON','LIVER','PROST','THROI','BREAC','RECTM']\n",
    "y_df =df['LUNG']\n",
    "X_df =df.drop(features, axis=1)"
   ]
  },
  {
   "cell_type": "code",
   "execution_count": null,
   "metadata": {},
   "outputs": [
    {
     "data": {
      "text/plain": [
       "<AxesSubplot:>"
      ]
     },
     "execution_count": 132,
     "metadata": {},
     "output_type": "execute_result"
    },
    {
     "data": {
      "image/png": "[encoded data removed]",
      "text/plain": [
       "<Figure size 864x864 with 2 Axes>"
      ]
     },
     "metadata": {
      "needs_background": "light"
     },
     "output_type": "display_data"
    }
   ],
   "source": [
    "import seaborn as sns\n",
    "fig, ax = plt.subplots(figsize = (12, 12))\n",
    "sns.heatmap(df[features].corr(), annot=True, fmt = '.1f', ax = ax)"
   ]
  },
  {
   "cell_type": "code",
   "execution_count": null,
   "metadata": {},
   "outputs": [],
   "source": [
    "from sklearn.model_selection import train_test_split\n",
    "X_train,X_test,y_train,y_test = train_test_split(X_df,y_df,test_size=0.2)"
   ]
  },
  {
   "cell_type": "code",
   "execution_count": null,
   "metadata": {},
   "outputs": [],
   "source": [
    "import matplotlib.pyplot as plt\n",
    "import numpy as np"
   ]
  },
  {
   "cell_type": "code",
   "execution_count": null,
   "metadata": {},
   "outputs": [],
   "source": [
    "#분류 모델\n",
    "from sklearn.tree import DecisionTreeClassifier \n",
    "from sklearn.ensemble import RandomForestClassifier\n",
    "from sklearn.linear_model import LogisticRegression\n",
    "from sklearn.neighbors import KNeighborsClassifier\n",
    "from sklearn.ensemble import VotingClassifier\n",
    "from sklearn.ensemble import AdaBoostClassifier\n",
    "\n",
    "from sklearn.metrics import confusion_matrix,classification_report #정오분류표\n",
    "from sklearn.metrics import accuracy_score,precision_score,recall_score,f1_score,roc_auc_score #정확도,민감도\n",
    "from sklearn.metrics import roc_curve, auc #ROC 곡선 그리기\n",
    "\n",
    "#최적화\n",
    "from sklearn.model_selection import learning_curve,validation_curve #학습곡선, 검증곡선\n",
    "from sklearn.model_selection import GridSearchCV #하이퍼파라미터 튜닝\n",
    "from sklearn.model_selection import cross_val_score #교차타당도 #추가"
   ]
  },
  {
   "cell_type": "markdown",
   "metadata": {},
   "source": [
    "투표 기법 사용"
   ]
  },
  {
   "cell_type": "code",
   "execution_count": null,
   "metadata": {},
   "outputs": [],
   "source": [
    "logistic = LogisticRegression(solver='liblinear',penalty='l2')\n",
    "tree = DecisionTreeClassifier(max_depth=None,criterion='entropy')\n",
    "knn = KNeighborsClassifier(n_neighbors=1,p=2,metric='minkowski')\n",
    "forest = RandomForestClassifier()\n",
    "adaboost = AdaBoostClassifier()\n",
    "voting_estimators = [('logistic',logistic),('tree',tree),('knn',knn)]\n",
    "voting = VotingClassifier(estimators=voting_estimators,voting='soft')\n",
    "#소프트 보팅 이용 (분류기들의 레이블)\n",
    "#투표 기법 사용\n",
    "a_clf_labels = ['Logistic regression','Decision tree','KNN','Majority voting']\n",
    "a_all_clf = [logistic,tree,knn,voting]\n",
    "\n",
    "#배깅\n",
    "b_clf_labels = ['Decision tree','Random forest']\n",
    "b_all_clf = [tree,forest]\n",
    "\n",
    "#부스팅\n",
    "c_clf_labels = ['Decision tree','Ada boost']\n",
    "c_all_clf = [tree,adaboost]"
   ]
  },
  {
   "cell_type": "code",
   "execution_count": null,
   "metadata": {},
   "outputs": [
    {
     "name": "stdout",
     "output_type": "stream",
     "text": [
      "ROC AUC: 0.757 (sd : 0.181),[Logistic regression]\n",
      "ROC AUC: 0.529 (sd : 0.103),[Decision tree]\n",
      "ROC AUC: 0.536 (sd : 0.102),[KNN]\n",
      "ROC AUC: 0.777 (sd : 0.124),[Majority voting]\n"
     ]
    }
   ],
   "source": [
    "for clf, label in zip(a_all_clf,a_clf_labels):\n",
    "    scores = cross_val_score(estimator=clf,X=X_train,y=y_train,cv=10,scoring='roc_auc')\n",
    "    print('ROC AUC: %0.3f (sd : %0.3f),[%s]' %(scores.mean(),scores.std(),label))"
   ]
  },
  {
   "cell_type": "code",
   "execution_count": null,
   "metadata": {},
   "outputs": [
    {
     "data": {
      "image/png": "[encoded data removed]",
      "text/plain": [
       "<Figure size 432x288 with 1 Axes>"
      ]
     },
     "metadata": {
      "needs_background": "light"
     },
     "output_type": "display_data"
    }
   ],
   "source": [
    "colors=['r','g','b','black']\n",
    "for clf,label,clr in zip(a_all_clf,a_clf_labels,colors):\n",
    "    clf.fit(X_train,y_train)\n",
    "    y_pred = clf.predict_proba(X_test)[:,1]\n",
    "    fpr,tpr,thresholds = roc_curve(y_true=y_test,y_score=y_pred)\n",
    "    roc_auc=auc(x=fpr,y=tpr)\n",
    "    plt.plot(fpr,tpr,color=clr,label='%s(auc=%0.3f)'%(label,roc_auc))\n",
    "\n",
    "plt.legend(loc='lower right')\n",
    "plt.grid()\n",
    "plt.xlabel('False positive rate(fpr)')\n",
    "plt.ylabel('True postivie rate (tpr)')\n",
    "plt.show()"
   ]
  },
  {
   "cell_type": "code",
   "execution_count": null,
   "metadata": {},
   "outputs": [
    {
     "data": {
      "image/png": "[encoded data removed]",
      "text/plain": [
       "<Figure size 432x288 with 1 Axes>"
      ]
     },
     "metadata": {
      "needs_background": "light"
     },
     "output_type": "display_data"
    }
   ],
   "source": [
    "colors=['r','g','b','black']\n",
    "for clf,label,clr in zip(a_all_clf,a_clf_labels,colors):\n",
    "    clf.fit(X_train,y_train)\n",
    "    y_pred = clf.predict_proba(X_test)[:,1]\n",
    "    fpr,tpr,thresholds = roc_curve(y_true=y_test,y_score=y_pred)\n",
    "    roc_auc=auc(x=fpr,y=tpr)\n",
    "    plt.plot(fpr,tpr,color=clr,label='%s(auc=%0.3f)'%(label,roc_auc))\n",
    "\n",
    "plt.legend(loc='lower right')\n",
    "plt.grid()\n",
    "plt.xlabel('False positive rate(fpr)')\n",
    "plt.ylabel('True postivie rate (tpr)')\n",
    "plt.show()"
   ]
  },
  {
   "cell_type": "code",
   "execution_count": null,
   "metadata": {},
   "outputs": [
    {
     "data": {
      "image/png": "[encoded data removed]",
      "text/plain": [
       "<Figure size 432x288 with 1 Axes>"
      ]
     },
     "metadata": {
      "needs_background": "light"
     },
     "output_type": "display_data"
    }
   ],
   "source": [
    "colors=['r','g']\n",
    "for clf,label,clr in zip(b_all_clf,b_clf_labels,colors):\n",
    "    clf.fit(X_train,y_train)\n",
    "    y_pred = clf.predict_proba(X_test)[:,1]\n",
    "    fpr,tpr,thresholds = roc_curve(y_true=y_test,y_score=y_pred)\n",
    "    roc_auc=auc(x=fpr,y=tpr)\n",
    "    plt.plot(fpr,tpr,color=clr,label='%s(auc=%0.3f)'%(label,roc_auc))\n",
    "\n",
    "plt.legend(loc='lower right')\n",
    "plt.grid()\n",
    "plt.xlabel('False positive rate(fpr)')\n",
    "plt.ylabel('True postivie rate (tpr)')\n",
    "plt.show()"
   ]
  },
  {
   "cell_type": "code",
   "execution_count": null,
   "metadata": {},
   "outputs": [],
   "source": []
  },
  {
   "cell_type": "code",
   "execution_count": null,
   "metadata": {},
   "outputs": [
    {
     "data": {
      "image/png": "[encoded data removed]",
      "text/plain": [
       "<Figure size 432x288 with 1 Axes>"
      ]
     },
     "metadata": {
      "needs_background": "light"
     },
     "output_type": "display_data"
    }
   ],
   "source": [
    "colors=['r','g']\n",
    "for clf,label,clr in zip(c_all_clf,c_clf_labels,colors):\n",
    "    clf.fit(X_train,y_train)\n",
    "    y_pred = clf.predict_proba(X_test)[:,1]\n",
    "    fpr,tpr,thresholds = roc_curve(y_true=y_test,y_score=y_pred)\n",
    "    roc_auc=auc(x=fpr,y=tpr)\n",
    "    plt.plot(fpr,tpr,color=clr,label='%s(auc=%0.3f)'%(label,roc_auc))\n",
    "\n",
    "plt.legend(loc='lower right')\n",
    "plt.grid()\n",
    "plt.xlabel('False positive rate(fpr)')\n",
    "plt.ylabel('True postivie rate (tpr)')\n",
    "plt.show()"
   ]
  },
  {
   "cell_type": "markdown",
   "metadata": {},
   "source": [
    "randomforest의 경우의 중요도를 선택하였다."
   ]
  },
  {
   "cell_type": "code",
   "execution_count": null,
   "metadata": {},
   "outputs": [
    {
     "name": "stdout",
     "output_type": "stream",
     "text": [
      "  1) AGE_B                          0.106177\n",
      "  2) SBP_B                          0.069888\n",
      "  3) WT_B                           0.068185\n",
      "  4) GPT_B                          0.060324\n",
      "  5) BIL                            0.058425\n",
      "  6) GOT_B                          0.055673\n",
      "  7) HDL_B                          0.052703\n",
      "  8) LDL_B                          0.051954\n",
      "  9) FBS_B                          0.049434\n",
      " 10) TG_B                           0.048669\n",
      " 11) WBC                            0.046386\n",
      " 12) URIC_B                         0.046258\n",
      " 13) HT_B                           0.046198\n",
      " 14) CHO_B                          0.043647\n",
      " 15) DBP_B                          0.041626\n",
      " 16) WAIST_B                        0.041596\n",
      " 17) CREAT                          0.035550\n",
      " 18) GGT_B                          0.030770\n",
      " 19) SMOK_B                         0.024225\n",
      " 20) EXER_B                         0.009070\n",
      " 21) ALCO_B                         0.006714\n",
      " 22) SEX1                           0.005384\n",
      " 23) CRC                            0.001144\n"
     ]
    }
   ],
   "source": [
    "feat_labels= X_df.columns\n",
    "importance =forest.feature_importances_\n",
    "indices=np.argsort(importance)[::-1]\n",
    "for f in range(X_train.shape[1]):\n",
    "    print(\"%3d) %-*s %f\" %(f+1,30,feat_labels[indices[f]],importance[indices[f]]))"
   ]
  },
  {
   "cell_type": "code",
   "execution_count": null,
   "metadata": {},
   "outputs": [
    {
     "data": {
      "image/png": "[encoded data removed]",
      "text/plain": [
       "<Figure size 432x288 with 1 Axes>"
      ]
     },
     "metadata": {
      "needs_background": "light"
     },
     "output_type": "display_data"
    }
   ],
   "source": [
    "plt.bar(range(X_train.shape[1]),importance[indices],align='center')\n",
    "plt.xticks(range(X_train.shape[1]),feat_labels[indices],rotation=45,size=8)\n",
    "plt.title('feature importance')\n",
    "plt.show()"
   ]
  },
  {
   "cell_type": "markdown",
   "metadata": {},
   "source": [
    "중요도 0.05 까지만 잘라서 시행해봤다."
   ]
  },
  {
   "cell_type": "code",
   "execution_count": null,
   "metadata": {},
   "outputs": [],
   "source": [
    "#폐암 \n",
    "features=['LUNG','STOMA','COLON','LIVER','LUNG','PROST','THROI','BREAC','RECTM']\n",
    "y_df =df['LUNG']\n",
    "#X_df =df.drop(features, axis=1)\n",
    "X_df =df[['AGE_B','GOT_B','SBP_B','LDL_B','HDL_B','DBP_B','CHO_B','WT_B','FBS_B','GPT_B']]"
   ]
  },
  {
   "cell_type": "code",
   "execution_count": null,
   "metadata": {},
   "outputs": [
    {
     "name": "stdout",
     "output_type": "stream",
     "text": [
      "(630, 10) (158, 10)\n"
     ]
    }
   ],
   "source": [
    "X_train, X_test, y_train, y_test = train_test_split(X_df, y_df, test_size=0.2, random_state=156)\n",
    "print(X_train.shape, X_test.shape)"
   ]
  },
  {
   "cell_type": "code",
   "execution_count": null,
   "metadata": {},
   "outputs": [],
   "source": [
    "dtrain = xgb.DMatrix(data=X_train, label = y_train)\n",
    "dtest = xgb.DMatrix(data=X_test, label=y_test)"
   ]
  },
  {
   "cell_type": "code",
   "execution_count": null,
   "metadata": {},
   "outputs": [],
   "source": [
    "params = {'max_depth' : 3,\n",
    "         'eta' : 0.1, \n",
    "         'objective' : 'binary:logistic',\n",
    "         'eval_metric' : 'logloss',\n",
    "         'early_stoppings' : 100 }\n",
    "\n",
    "num_rounds = 500"
   ]
  },
  {
   "cell_type": "code",
   "execution_count": null,
   "metadata": {},
   "outputs": [
    {
     "name": "stdout",
     "output_type": "stream",
     "text": [
      "[01:08:08] WARNING: ..\\src\\learner.cc:541: \n",
      "Parameters: { early_stoppings } might not be used.\n",
      "\n",
      "  This may not be accurate due to some parameters are only used in language bindings but\n",
      "  passed down to XGBoost core.  Or some parameters are not used but slip through this\n",
      "  verification. Please open an issue if you find above cases.\n",
      "\n",
      "\n",
      "[0]\ttrain-logloss:0.60923\teval-logloss:0.60765\n",
      "[1]\ttrain-logloss:0.54068\teval-logloss:0.53720\n",
      "[2]\ttrain-logloss:0.48331\teval-logloss:0.47776\n",
      "[3]\ttrain-logloss:0.43502\teval-logloss:0.42800\n",
      "[4]\ttrain-logloss:0.39360\teval-logloss:0.38523\n",
      "[5]\ttrain-logloss:0.35772\teval-logloss:0.34868\n",
      "[6]\ttrain-logloss:0.32702\teval-logloss:0.31687\n",
      "[7]\ttrain-logloss:0.30010\teval-logloss:0.28914\n",
      "[8]\ttrain-logloss:0.27678\teval-logloss:0.26491\n",
      "[9]\ttrain-logloss:0.25569\teval-logloss:0.24347\n",
      "[10]\ttrain-logloss:0.23766\teval-logloss:0.22481\n",
      "[11]\ttrain-logloss:0.22176\teval-logloss:0.20834\n",
      "[12]\ttrain-logloss:0.20771\teval-logloss:0.19373\n",
      "[13]\ttrain-logloss:0.19501\teval-logloss:0.18105\n",
      "[14]\ttrain-logloss:0.18338\teval-logloss:0.16955\n",
      "[15]\ttrain-logloss:0.17310\teval-logloss:0.15926\n",
      "[16]\ttrain-logloss:0.16391\teval-logloss:0.15013\n",
      "[17]\ttrain-logloss:0.15557\teval-logloss:0.14201\n",
      "[18]\ttrain-logloss:0.14807\teval-logloss:0.13500\n",
      "[19]\ttrain-logloss:0.14131\teval-logloss:0.12813\n",
      "[20]\ttrain-logloss:0.13529\teval-logloss:0.12238\n",
      "[21]\ttrain-logloss:0.12972\teval-logloss:0.11736\n",
      "[22]\ttrain-logloss:0.12481\teval-logloss:0.11284\n",
      "[23]\ttrain-logloss:0.12033\teval-logloss:0.10821\n",
      "[24]\ttrain-logloss:0.11606\teval-logloss:0.10442\n",
      "[25]\ttrain-logloss:0.11221\teval-logloss:0.10072\n",
      "[26]\ttrain-logloss:0.10865\teval-logloss:0.09774\n",
      "[27]\ttrain-logloss:0.10499\teval-logloss:0.09385\n",
      "[28]\ttrain-logloss:0.10194\teval-logloss:0.09146\n",
      "[29]\ttrain-logloss:0.09928\teval-logloss:0.08922\n",
      "[30]\ttrain-logloss:0.09669\teval-logloss:0.08741\n",
      "[31]\ttrain-logloss:0.09440\teval-logloss:0.08581\n",
      "[32]\ttrain-logloss:0.09195\teval-logloss:0.08339\n",
      "[33]\ttrain-logloss:0.08970\teval-logloss:0.08178\n",
      "[34]\ttrain-logloss:0.08785\teval-logloss:0.08021\n",
      "[35]\ttrain-logloss:0.08593\teval-logloss:0.07897\n",
      "[36]\ttrain-logloss:0.08389\teval-logloss:0.07810\n",
      "[37]\ttrain-logloss:0.08227\teval-logloss:0.07720\n",
      "[38]\ttrain-logloss:0.07987\teval-logloss:0.07594\n",
      "[39]\ttrain-logloss:0.07828\teval-logloss:0.07545\n",
      "[40]\ttrain-logloss:0.07642\teval-logloss:0.07461\n",
      "[41]\ttrain-logloss:0.07492\teval-logloss:0.07376\n",
      "[42]\ttrain-logloss:0.07402\teval-logloss:0.07403\n",
      "[43]\ttrain-logloss:0.07221\teval-logloss:0.07310\n",
      "[44]\ttrain-logloss:0.07112\teval-logloss:0.07287\n",
      "[45]\ttrain-logloss:0.06994\teval-logloss:0.07272\n",
      "[46]\ttrain-logloss:0.06883\teval-logloss:0.07294\n",
      "[47]\ttrain-logloss:0.06822\teval-logloss:0.07321\n",
      "[48]\ttrain-logloss:0.06728\teval-logloss:0.07259\n",
      "[49]\ttrain-logloss:0.06667\teval-logloss:0.07228\n",
      "[50]\ttrain-logloss:0.06560\teval-logloss:0.07190\n",
      "[51]\ttrain-logloss:0.06435\teval-logloss:0.07148\n",
      "[52]\ttrain-logloss:0.06354\teval-logloss:0.07112\n",
      "[53]\ttrain-logloss:0.06288\teval-logloss:0.07124\n",
      "[54]\ttrain-logloss:0.06207\teval-logloss:0.07115\n",
      "[55]\ttrain-logloss:0.06052\teval-logloss:0.07044\n",
      "[56]\ttrain-logloss:0.06005\teval-logloss:0.07058\n",
      "[57]\ttrain-logloss:0.05899\teval-logloss:0.07028\n",
      "[58]\ttrain-logloss:0.05801\teval-logloss:0.06973\n",
      "[59]\ttrain-logloss:0.05733\teval-logloss:0.06972\n",
      "[60]\ttrain-logloss:0.05687\teval-logloss:0.06941\n",
      "[61]\ttrain-logloss:0.05639\teval-logloss:0.06929\n",
      "[62]\ttrain-logloss:0.05584\teval-logloss:0.06948\n",
      "[63]\ttrain-logloss:0.05515\teval-logloss:0.06948\n",
      "[64]\ttrain-logloss:0.05458\teval-logloss:0.06951\n",
      "[65]\ttrain-logloss:0.05322\teval-logloss:0.06861\n",
      "[66]\ttrain-logloss:0.05259\teval-logloss:0.06887\n",
      "[67]\ttrain-logloss:0.05212\teval-logloss:0.06909\n",
      "[68]\ttrain-logloss:0.05109\teval-logloss:0.06883\n",
      "[69]\ttrain-logloss:0.05079\teval-logloss:0.06879\n",
      "[70]\ttrain-logloss:0.05031\teval-logloss:0.06885\n",
      "[71]\ttrain-logloss:0.04990\teval-logloss:0.06907\n",
      "[72]\ttrain-logloss:0.04915\teval-logloss:0.06896\n",
      "[73]\ttrain-logloss:0.04839\teval-logloss:0.06865\n",
      "[74]\ttrain-logloss:0.04796\teval-logloss:0.06874\n",
      "[75]\ttrain-logloss:0.04665\teval-logloss:0.06830\n",
      "[76]\ttrain-logloss:0.04601\teval-logloss:0.06822\n",
      "[77]\ttrain-logloss:0.04534\teval-logloss:0.06819\n",
      "[78]\ttrain-logloss:0.04498\teval-logloss:0.06878\n",
      "[79]\ttrain-logloss:0.04465\teval-logloss:0.06862\n",
      "[80]\ttrain-logloss:0.04388\teval-logloss:0.06844\n",
      "[81]\ttrain-logloss:0.04347\teval-logloss:0.06819\n",
      "[82]\ttrain-logloss:0.04319\teval-logloss:0.06817\n",
      "[83]\ttrain-logloss:0.04264\teval-logloss:0.06827\n",
      "[84]\ttrain-logloss:0.04237\teval-logloss:0.06849\n",
      "[85]\ttrain-logloss:0.04207\teval-logloss:0.06849\n",
      "[86]\ttrain-logloss:0.04149\teval-logloss:0.06826\n",
      "[87]\ttrain-logloss:0.04116\teval-logloss:0.06812\n",
      "[88]\ttrain-logloss:0.04080\teval-logloss:0.06774\n",
      "[89]\ttrain-logloss:0.04051\teval-logloss:0.06755\n",
      "[90]\ttrain-logloss:0.04018\teval-logloss:0.06738\n",
      "[91]\ttrain-logloss:0.03941\teval-logloss:0.06680\n",
      "[92]\ttrain-logloss:0.03905\teval-logloss:0.06675\n",
      "[93]\ttrain-logloss:0.03877\teval-logloss:0.06674\n",
      "[94]\ttrain-logloss:0.03838\teval-logloss:0.06666\n",
      "[95]\ttrain-logloss:0.03793\teval-logloss:0.06653\n",
      "[96]\ttrain-logloss:0.03763\teval-logloss:0.06630\n",
      "[97]\ttrain-logloss:0.03738\teval-logloss:0.06659\n",
      "[98]\ttrain-logloss:0.03698\teval-logloss:0.06669\n",
      "[99]\ttrain-logloss:0.03665\teval-logloss:0.06663\n",
      "[100]\ttrain-logloss:0.03626\teval-logloss:0.06593\n",
      "[101]\ttrain-logloss:0.03583\teval-logloss:0.06606\n",
      "[102]\ttrain-logloss:0.03531\teval-logloss:0.06527\n",
      "[103]\ttrain-logloss:0.03488\teval-logloss:0.06487\n",
      "[104]\ttrain-logloss:0.03462\teval-logloss:0.06479\n",
      "[105]\ttrain-logloss:0.03432\teval-logloss:0.06495\n",
      "[106]\ttrain-logloss:0.03407\teval-logloss:0.06474\n",
      "[107]\ttrain-logloss:0.03380\teval-logloss:0.06516\n",
      "[108]\ttrain-logloss:0.03356\teval-logloss:0.06526\n",
      "[109]\ttrain-logloss:0.03333\teval-logloss:0.06520\n",
      "[110]\ttrain-logloss:0.03291\teval-logloss:0.06511\n",
      "[111]\ttrain-logloss:0.03270\teval-logloss:0.06524\n",
      "[112]\ttrain-logloss:0.03248\teval-logloss:0.06573\n",
      "[113]\ttrain-logloss:0.03229\teval-logloss:0.06623\n",
      "[114]\ttrain-logloss:0.03213\teval-logloss:0.06603\n",
      "[115]\ttrain-logloss:0.03198\teval-logloss:0.06603\n",
      "[116]\ttrain-logloss:0.03172\teval-logloss:0.06622\n",
      "[117]\ttrain-logloss:0.03135\teval-logloss:0.06610\n",
      "[118]\ttrain-logloss:0.03119\teval-logloss:0.06632\n",
      "[119]\ttrain-logloss:0.03102\teval-logloss:0.06645\n",
      "[120]\ttrain-logloss:0.03071\teval-logloss:0.06646\n",
      "[121]\ttrain-logloss:0.03056\teval-logloss:0.06680\n",
      "[122]\ttrain-logloss:0.03024\teval-logloss:0.06629\n",
      "[123]\ttrain-logloss:0.03009\teval-logloss:0.06634\n",
      "[124]\ttrain-logloss:0.02985\teval-logloss:0.06639\n",
      "[125]\ttrain-logloss:0.02958\teval-logloss:0.06628\n",
      "[126]\ttrain-logloss:0.02933\teval-logloss:0.06630\n",
      "[127]\ttrain-logloss:0.02908\teval-logloss:0.06627\n",
      "[128]\ttrain-logloss:0.02890\teval-logloss:0.06620\n",
      "[129]\ttrain-logloss:0.02875\teval-logloss:0.06645\n",
      "[130]\ttrain-logloss:0.02848\teval-logloss:0.06642\n",
      "[131]\ttrain-logloss:0.02814\teval-logloss:0.06603\n",
      "[132]\ttrain-logloss:0.02794\teval-logloss:0.06630\n",
      "[133]\ttrain-logloss:0.02770\teval-logloss:0.06620\n",
      "[134]\ttrain-logloss:0.02744\teval-logloss:0.06618\n",
      "[135]\ttrain-logloss:0.02731\teval-logloss:0.06631\n",
      "[136]\ttrain-logloss:0.02710\teval-logloss:0.06625\n",
      "[137]\ttrain-logloss:0.02684\teval-logloss:0.06610\n",
      "[138]\ttrain-logloss:0.02661\teval-logloss:0.06606\n",
      "[139]\ttrain-logloss:0.02650\teval-logloss:0.06625\n",
      "[140]\ttrain-logloss:0.02638\teval-logloss:0.06638\n",
      "[141]\ttrain-logloss:0.02585\teval-logloss:0.06641\n",
      "[142]\ttrain-logloss:0.02565\teval-logloss:0.06639\n",
      "[143]\ttrain-logloss:0.02545\teval-logloss:0.06635\n",
      "[144]\ttrain-logloss:0.02527\teval-logloss:0.06627\n",
      "[145]\ttrain-logloss:0.02516\teval-logloss:0.06625\n",
      "[146]\ttrain-logloss:0.02504\teval-logloss:0.06613\n",
      "[147]\ttrain-logloss:0.02494\teval-logloss:0.06639\n",
      "[148]\ttrain-logloss:0.02484\teval-logloss:0.06645\n",
      "[149]\ttrain-logloss:0.02460\teval-logloss:0.06603\n",
      "[150]\ttrain-logloss:0.02417\teval-logloss:0.06644\n",
      "[151]\ttrain-logloss:0.02398\teval-logloss:0.06625\n",
      "[152]\ttrain-logloss:0.02388\teval-logloss:0.06614\n",
      "[153]\ttrain-logloss:0.02378\teval-logloss:0.06627\n",
      "[154]\ttrain-logloss:0.02365\teval-logloss:0.06627\n",
      "[155]\ttrain-logloss:0.02356\teval-logloss:0.06640\n",
      "[156]\ttrain-logloss:0.02338\teval-logloss:0.06633\n",
      "[157]\ttrain-logloss:0.02325\teval-logloss:0.06626\n",
      "[158]\ttrain-logloss:0.02298\teval-logloss:0.06634\n",
      "[159]\ttrain-logloss:0.02277\teval-logloss:0.06632\n",
      "[160]\ttrain-logloss:0.02268\teval-logloss:0.06622\n",
      "[161]\ttrain-logloss:0.02247\teval-logloss:0.06678\n",
      "[162]\ttrain-logloss:0.02235\teval-logloss:0.06682\n",
      "[163]\ttrain-logloss:0.02216\teval-logloss:0.06740\n",
      "[164]\ttrain-logloss:0.02207\teval-logloss:0.06750\n",
      "[165]\ttrain-logloss:0.02198\teval-logloss:0.06744\n",
      "[166]\ttrain-logloss:0.02180\teval-logloss:0.06801\n",
      "[167]\ttrain-logloss:0.02169\teval-logloss:0.06797\n",
      "[168]\ttrain-logloss:0.02161\teval-logloss:0.06811\n",
      "[169]\ttrain-logloss:0.02133\teval-logloss:0.06828\n",
      "[170]\ttrain-logloss:0.02113\teval-logloss:0.06783\n",
      "[171]\ttrain-logloss:0.02099\teval-logloss:0.06809\n",
      "[172]\ttrain-logloss:0.02074\teval-logloss:0.06825\n",
      "[173]\ttrain-logloss:0.02057\teval-logloss:0.06847\n",
      "[174]\ttrain-logloss:0.02037\teval-logloss:0.06815\n",
      "[175]\ttrain-logloss:0.02006\teval-logloss:0.06832\n",
      "[176]\ttrain-logloss:0.01980\teval-logloss:0.06774\n",
      "[177]\ttrain-logloss:0.01962\teval-logloss:0.06781\n",
      "[178]\ttrain-logloss:0.01954\teval-logloss:0.06774\n",
      "[179]\ttrain-logloss:0.01943\teval-logloss:0.06777\n",
      "[180]\ttrain-logloss:0.01930\teval-logloss:0.06810\n",
      "[181]\ttrain-logloss:0.01923\teval-logloss:0.06824\n",
      "[182]\ttrain-logloss:0.01897\teval-logloss:0.06827\n",
      "[183]\ttrain-logloss:0.01890\teval-logloss:0.06827\n",
      "[184]\ttrain-logloss:0.01880\teval-logloss:0.06839\n",
      "[185]\ttrain-logloss:0.01869\teval-logloss:0.06871\n",
      "[186]\ttrain-logloss:0.01855\teval-logloss:0.06871\n",
      "[187]\ttrain-logloss:0.01844\teval-logloss:0.06882\n",
      "[188]\ttrain-logloss:0.01821\teval-logloss:0.06886\n",
      "[189]\ttrain-logloss:0.01815\teval-logloss:0.06901\n",
      "[190]\ttrain-logloss:0.01796\teval-logloss:0.06861\n",
      "[191]\ttrain-logloss:0.01787\teval-logloss:0.06872\n",
      "[192]\ttrain-logloss:0.01775\teval-logloss:0.06869\n",
      "[193]\ttrain-logloss:0.01763\teval-logloss:0.06875\n",
      "[194]\ttrain-logloss:0.01752\teval-logloss:0.06864\n",
      "[195]\ttrain-logloss:0.01740\teval-logloss:0.06886\n",
      "[196]\ttrain-logloss:0.01734\teval-logloss:0.06882\n",
      "[197]\ttrain-logloss:0.01722\teval-logloss:0.06858\n",
      "[198]\ttrain-logloss:0.01708\teval-logloss:0.06870\n",
      "[199]\ttrain-logloss:0.01697\teval-logloss:0.06856\n",
      "[200]\ttrain-logloss:0.01690\teval-logloss:0.06871\n",
      "[201]\ttrain-logloss:0.01684\teval-logloss:0.06872\n",
      "[202]\ttrain-logloss:0.01671\teval-logloss:0.06850\n",
      "[203]\ttrain-logloss:0.01654\teval-logloss:0.06801\n",
      "[204]\ttrain-logloss:0.01649\teval-logloss:0.06822\n",
      "[205]\ttrain-logloss:0.01633\teval-logloss:0.06776\n",
      "[206]\ttrain-logloss:0.01627\teval-logloss:0.06785\n",
      "[207]\ttrain-logloss:0.01614\teval-logloss:0.06750\n",
      "[208]\ttrain-logloss:0.01602\teval-logloss:0.06742\n",
      "[209]\ttrain-logloss:0.01591\teval-logloss:0.06741\n",
      "[210]\ttrain-logloss:0.01580\teval-logloss:0.06712\n",
      "[211]\ttrain-logloss:0.01573\teval-logloss:0.06719\n",
      "[212]\ttrain-logloss:0.01563\teval-logloss:0.06696\n",
      "[213]\ttrain-logloss:0.01556\teval-logloss:0.06716\n",
      "[214]\ttrain-logloss:0.01544\teval-logloss:0.06724\n",
      "[215]\ttrain-logloss:0.01535\teval-logloss:0.06710\n",
      "[216]\ttrain-logloss:0.01522\teval-logloss:0.06661\n",
      "[217]\ttrain-logloss:0.01512\teval-logloss:0.06656\n",
      "[218]\ttrain-logloss:0.01503\teval-logloss:0.06654\n",
      "[219]\ttrain-logloss:0.01489\teval-logloss:0.06666\n",
      "[220]\ttrain-logloss:0.01481\teval-logloss:0.06657\n",
      "[221]\ttrain-logloss:0.01474\teval-logloss:0.06641\n",
      "[222]\ttrain-logloss:0.01466\teval-logloss:0.06621\n",
      "[223]\ttrain-logloss:0.01460\teval-logloss:0.06638\n",
      "[224]\ttrain-logloss:0.01450\teval-logloss:0.06614\n",
      "[225]\ttrain-logloss:0.01438\teval-logloss:0.06631\n",
      "[226]\ttrain-logloss:0.01432\teval-logloss:0.06640\n",
      "[227]\ttrain-logloss:0.01424\teval-logloss:0.06667\n",
      "[228]\ttrain-logloss:0.01417\teval-logloss:0.06657\n",
      "[229]\ttrain-logloss:0.01406\teval-logloss:0.06674\n",
      "[230]\ttrain-logloss:0.01397\teval-logloss:0.06675\n",
      "[231]\ttrain-logloss:0.01392\teval-logloss:0.06681\n",
      "[232]\ttrain-logloss:0.01387\teval-logloss:0.06681\n",
      "[233]\ttrain-logloss:0.01382\teval-logloss:0.06666\n",
      "[234]\ttrain-logloss:0.01377\teval-logloss:0.06676\n",
      "[235]\ttrain-logloss:0.01373\teval-logloss:0.06673\n",
      "[236]\ttrain-logloss:0.01368\teval-logloss:0.06680\n",
      "[237]\ttrain-logloss:0.01361\teval-logloss:0.06634\n",
      "[238]\ttrain-logloss:0.01356\teval-logloss:0.06635\n",
      "[239]\ttrain-logloss:0.01348\teval-logloss:0.06635\n",
      "[240]\ttrain-logloss:0.01342\teval-logloss:0.06627\n",
      "[241]\ttrain-logloss:0.01336\teval-logloss:0.06625\n",
      "[242]\ttrain-logloss:0.01328\teval-logloss:0.06603\n",
      "[243]\ttrain-logloss:0.01323\teval-logloss:0.06609\n",
      "[244]\ttrain-logloss:0.01317\teval-logloss:0.06590\n",
      "[245]\ttrain-logloss:0.01313\teval-logloss:0.06577\n",
      "[246]\ttrain-logloss:0.01309\teval-logloss:0.06595\n",
      "[247]\ttrain-logloss:0.01303\teval-logloss:0.06619\n",
      "[248]\ttrain-logloss:0.01299\teval-logloss:0.06609\n",
      "[249]\ttrain-logloss:0.01295\teval-logloss:0.06622\n",
      "[250]\ttrain-logloss:0.01289\teval-logloss:0.06642\n",
      "[251]\ttrain-logloss:0.01285\teval-logloss:0.06648\n",
      "[252]\ttrain-logloss:0.01279\teval-logloss:0.06631\n",
      "[253]\ttrain-logloss:0.01273\teval-logloss:0.06650\n",
      "[254]\ttrain-logloss:0.01269\teval-logloss:0.06674\n",
      "[255]\ttrain-logloss:0.01265\teval-logloss:0.06687\n",
      "[256]\ttrain-logloss:0.01261\teval-logloss:0.06692\n",
      "[257]\ttrain-logloss:0.01257\teval-logloss:0.06714\n",
      "[258]\ttrain-logloss:0.01253\teval-logloss:0.06720\n",
      "[259]\ttrain-logloss:0.01249\teval-logloss:0.06749\n",
      "[260]\ttrain-logloss:0.01245\teval-logloss:0.06767\n",
      "[261]\ttrain-logloss:0.01240\teval-logloss:0.06791\n",
      "[262]\ttrain-logloss:0.01237\teval-logloss:0.06780\n",
      "[263]\ttrain-logloss:0.01233\teval-logloss:0.06797\n",
      "[264]\ttrain-logloss:0.01230\teval-logloss:0.06803\n",
      "[265]\ttrain-logloss:0.01224\teval-logloss:0.06761\n",
      "[266]\ttrain-logloss:0.01218\teval-logloss:0.06757\n",
      "[267]\ttrain-logloss:0.01215\teval-logloss:0.06752\n",
      "[268]\ttrain-logloss:0.01211\teval-logloss:0.06783\n",
      "[269]\ttrain-logloss:0.01206\teval-logloss:0.06806\n",
      "[270]\ttrain-logloss:0.01202\teval-logloss:0.06789\n",
      "[271]\ttrain-logloss:0.01197\teval-logloss:0.06783\n",
      "[272]\ttrain-logloss:0.01194\teval-logloss:0.06789\n",
      "[273]\ttrain-logloss:0.01191\teval-logloss:0.06794\n",
      "[274]\ttrain-logloss:0.01188\teval-logloss:0.06811\n",
      "[275]\ttrain-logloss:0.01184\teval-logloss:0.06809\n",
      "[276]\ttrain-logloss:0.01180\teval-logloss:0.06820\n",
      "[277]\ttrain-logloss:0.01175\teval-logloss:0.06786\n",
      "[278]\ttrain-logloss:0.01170\teval-logloss:0.06784\n",
      "[279]\ttrain-logloss:0.01165\teval-logloss:0.06772\n",
      "[280]\ttrain-logloss:0.01161\teval-logloss:0.06760\n",
      "[281]\ttrain-logloss:0.01159\teval-logloss:0.06756\n",
      "[282]\ttrain-logloss:0.01154\teval-logloss:0.06768\n",
      "[283]\ttrain-logloss:0.01151\teval-logloss:0.06756\n",
      "[284]\ttrain-logloss:0.01148\teval-logloss:0.06751\n",
      "[285]\ttrain-logloss:0.01144\teval-logloss:0.06765\n",
      "[286]\ttrain-logloss:0.01139\teval-logloss:0.06743\n",
      "[287]\ttrain-logloss:0.01134\teval-logloss:0.06754\n",
      "[288]\ttrain-logloss:0.01132\teval-logloss:0.06760\n",
      "[289]\ttrain-logloss:0.01128\teval-logloss:0.06760\n",
      "[290]\ttrain-logloss:0.01124\teval-logloss:0.06739\n",
      "[291]\ttrain-logloss:0.01121\teval-logloss:0.06727\n",
      "[292]\ttrain-logloss:0.01118\teval-logloss:0.06716\n",
      "[293]\ttrain-logloss:0.01115\teval-logloss:0.06716\n",
      "[294]\ttrain-logloss:0.01111\teval-logloss:0.06696\n",
      "[295]\ttrain-logloss:0.01106\teval-logloss:0.06684\n",
      "[296]\ttrain-logloss:0.01104\teval-logloss:0.06689\n",
      "[297]\ttrain-logloss:0.01101\teval-logloss:0.06687\n",
      "[298]\ttrain-logloss:0.01099\teval-logloss:0.06683\n",
      "[299]\ttrain-logloss:0.01096\teval-logloss:0.06683\n",
      "[300]\ttrain-logloss:0.01093\teval-logloss:0.06664\n",
      "[301]\ttrain-logloss:0.01090\teval-logloss:0.06674\n",
      "[302]\ttrain-logloss:0.01087\teval-logloss:0.06665\n",
      "[303]\ttrain-logloss:0.01083\teval-logloss:0.06664\n",
      "[304]\ttrain-logloss:0.01079\teval-logloss:0.06635\n",
      "[305]\ttrain-logloss:0.01076\teval-logloss:0.06616\n",
      "[306]\ttrain-logloss:0.01071\teval-logloss:0.06605\n",
      "[307]\ttrain-logloss:0.01069\teval-logloss:0.06610\n",
      "[308]\ttrain-logloss:0.01067\teval-logloss:0.06609\n",
      "[309]\ttrain-logloss:0.01065\teval-logloss:0.06613\n",
      "[310]\ttrain-logloss:0.01062\teval-logloss:0.06613\n",
      "[311]\ttrain-logloss:0.01058\teval-logloss:0.06613\n",
      "[312]\ttrain-logloss:0.01056\teval-logloss:0.06612\n",
      "[313]\ttrain-logloss:0.01052\teval-logloss:0.06592\n",
      "[314]\ttrain-logloss:0.01050\teval-logloss:0.06584\n",
      "[315]\ttrain-logloss:0.01047\teval-logloss:0.06594\n",
      "[316]\ttrain-logloss:0.01043\teval-logloss:0.06597\n",
      "[317]\ttrain-logloss:0.01039\teval-logloss:0.06591\n",
      "[318]\ttrain-logloss:0.01037\teval-logloss:0.06581\n",
      "[319]\ttrain-logloss:0.01030\teval-logloss:0.06581\n",
      "[320]\ttrain-logloss:0.01025\teval-logloss:0.06570\n",
      "[321]\ttrain-logloss:0.01021\teval-logloss:0.06583\n",
      "[322]\ttrain-logloss:0.01017\teval-logloss:0.06564\n",
      "[323]\ttrain-logloss:0.01014\teval-logloss:0.06539\n",
      "[324]\ttrain-logloss:0.01011\teval-logloss:0.06521\n",
      "[325]\ttrain-logloss:0.01007\teval-logloss:0.06503\n",
      "[326]\ttrain-logloss:0.01005\teval-logloss:0.06493\n",
      "[327]\ttrain-logloss:0.01003\teval-logloss:0.06503\n",
      "[328]\ttrain-logloss:0.01000\teval-logloss:0.06485\n",
      "[329]\ttrain-logloss:0.00998\teval-logloss:0.06495\n",
      "[330]\ttrain-logloss:0.00996\teval-logloss:0.06496\n",
      "[331]\ttrain-logloss:0.00992\teval-logloss:0.06508\n",
      "[332]\ttrain-logloss:0.00989\teval-logloss:0.06512\n",
      "[333]\ttrain-logloss:0.00986\teval-logloss:0.06507\n",
      "[334]\ttrain-logloss:0.00982\teval-logloss:0.06497\n",
      "[335]\ttrain-logloss:0.00979\teval-logloss:0.06481\n",
      "[336]\ttrain-logloss:0.00977\teval-logloss:0.06484\n",
      "[337]\ttrain-logloss:0.00975\teval-logloss:0.06475\n",
      "[338]\ttrain-logloss:0.00971\teval-logloss:0.06477\n",
      "[339]\ttrain-logloss:0.00969\teval-logloss:0.06460\n",
      "[340]\ttrain-logloss:0.00967\teval-logloss:0.06452\n",
      "[341]\ttrain-logloss:0.00965\teval-logloss:0.06457\n",
      "[342]\ttrain-logloss:0.00964\teval-logloss:0.06460\n",
      "[343]\ttrain-logloss:0.00962\teval-logloss:0.06453\n",
      "[344]\ttrain-logloss:0.00961\teval-logloss:0.06454\n",
      "[345]\ttrain-logloss:0.00957\teval-logloss:0.06464\n",
      "[346]\ttrain-logloss:0.00954\teval-logloss:0.06466\n",
      "[347]\ttrain-logloss:0.00950\teval-logloss:0.06478\n",
      "[348]\ttrain-logloss:0.00948\teval-logloss:0.06461\n",
      "[349]\ttrain-logloss:0.00947\teval-logloss:0.06467\n",
      "[350]\ttrain-logloss:0.00945\teval-logloss:0.06469\n",
      "[351]\ttrain-logloss:0.00943\teval-logloss:0.06471\n",
      "[352]\ttrain-logloss:0.00939\teval-logloss:0.06462\n",
      "[353]\ttrain-logloss:0.00936\teval-logloss:0.06466\n",
      "[354]\ttrain-logloss:0.00935\teval-logloss:0.06457\n",
      "[355]\ttrain-logloss:0.00933\teval-logloss:0.06460\n",
      "[356]\ttrain-logloss:0.00931\teval-logloss:0.06462\n",
      "[357]\ttrain-logloss:0.00929\teval-logloss:0.06456\n",
      "[358]\ttrain-logloss:0.00927\teval-logloss:0.06468\n",
      "[359]\ttrain-logloss:0.00924\teval-logloss:0.06452\n",
      "[360]\ttrain-logloss:0.00923\teval-logloss:0.06455\n",
      "[361]\ttrain-logloss:0.00922\teval-logloss:0.06459\n",
      "[362]\ttrain-logloss:0.00919\teval-logloss:0.06451\n",
      "[363]\ttrain-logloss:0.00916\teval-logloss:0.06436\n",
      "[364]\ttrain-logloss:0.00915\teval-logloss:0.06438\n",
      "[365]\ttrain-logloss:0.00912\teval-logloss:0.06444\n",
      "[366]\ttrain-logloss:0.00911\teval-logloss:0.06436\n",
      "[367]\ttrain-logloss:0.00908\teval-logloss:0.06450\n",
      "[368]\ttrain-logloss:0.00906\teval-logloss:0.06445\n",
      "[369]\ttrain-logloss:0.00904\teval-logloss:0.06440\n",
      "[370]\ttrain-logloss:0.00903\teval-logloss:0.06441\n",
      "[371]\ttrain-logloss:0.00902\teval-logloss:0.06442\n",
      "[372]\ttrain-logloss:0.00901\teval-logloss:0.06449\n",
      "[373]\ttrain-logloss:0.00898\teval-logloss:0.06462\n",
      "[374]\ttrain-logloss:0.00896\teval-logloss:0.06458\n",
      "[375]\ttrain-logloss:0.00895\teval-logloss:0.06460\n",
      "[376]\ttrain-logloss:0.00894\teval-logloss:0.06460\n",
      "[377]\ttrain-logloss:0.00892\teval-logloss:0.06454\n",
      "[378]\ttrain-logloss:0.00891\teval-logloss:0.06460\n",
      "[379]\ttrain-logloss:0.00890\teval-logloss:0.06467\n",
      "[380]\ttrain-logloss:0.00889\teval-logloss:0.06473\n",
      "[381]\ttrain-logloss:0.00887\teval-logloss:0.06475\n",
      "[382]\ttrain-logloss:0.00884\teval-logloss:0.06488\n",
      "[383]\ttrain-logloss:0.00883\teval-logloss:0.06470\n",
      "[384]\ttrain-logloss:0.00881\teval-logloss:0.06466\n",
      "[385]\ttrain-logloss:0.00880\teval-logloss:0.06468\n",
      "[386]\ttrain-logloss:0.00879\teval-logloss:0.06474\n",
      "[387]\ttrain-logloss:0.00878\teval-logloss:0.06479\n",
      "[388]\ttrain-logloss:0.00877\teval-logloss:0.06473\n",
      "[389]\ttrain-logloss:0.00876\teval-logloss:0.06481\n",
      "[390]\ttrain-logloss:0.00875\teval-logloss:0.06485\n",
      "[391]\ttrain-logloss:0.00873\teval-logloss:0.06496\n",
      "[392]\ttrain-logloss:0.00872\teval-logloss:0.06495\n",
      "[393]\ttrain-logloss:0.00871\teval-logloss:0.06500\n",
      "[394]\ttrain-logloss:0.00870\teval-logloss:0.06502\n",
      "[395]\ttrain-logloss:0.00868\teval-logloss:0.06488\n",
      "[396]\ttrain-logloss:0.00865\teval-logloss:0.06501\n",
      "[397]\ttrain-logloss:0.00864\teval-logloss:0.06491\n",
      "[398]\ttrain-logloss:0.00862\teval-logloss:0.06487\n",
      "[399]\ttrain-logloss:0.00861\teval-logloss:0.06488\n",
      "[400]\ttrain-logloss:0.00860\teval-logloss:0.06489\n",
      "[401]\ttrain-logloss:0.00859\teval-logloss:0.06493\n",
      "[402]\ttrain-logloss:0.00857\teval-logloss:0.06488\n",
      "[403]\ttrain-logloss:0.00856\teval-logloss:0.06495\n",
      "[404]\ttrain-logloss:0.00855\teval-logloss:0.06496\n",
      "[405]\ttrain-logloss:0.00854\teval-logloss:0.06479\n",
      "[406]\ttrain-logloss:0.00853\teval-logloss:0.06473\n",
      "[407]\ttrain-logloss:0.00851\teval-logloss:0.06484\n",
      "[408]\ttrain-logloss:0.00850\teval-logloss:0.06489\n",
      "[409]\ttrain-logloss:0.00849\teval-logloss:0.06494\n",
      "[410]\ttrain-logloss:0.00847\teval-logloss:0.06489\n",
      "[411]\ttrain-logloss:0.00846\teval-logloss:0.06491\n",
      "[412]\ttrain-logloss:0.00845\teval-logloss:0.06498\n",
      "[413]\ttrain-logloss:0.00843\teval-logloss:0.06500\n",
      "[414]\ttrain-logloss:0.00842\teval-logloss:0.06483\n",
      "[415]\ttrain-logloss:0.00841\teval-logloss:0.06494\n",
      "[416]\ttrain-logloss:0.00839\teval-logloss:0.06496\n",
      "[417]\ttrain-logloss:0.00839\teval-logloss:0.06501\n",
      "[418]\ttrain-logloss:0.00838\teval-logloss:0.06505\n",
      "[419]\ttrain-logloss:0.00836\teval-logloss:0.06500\n",
      "[420]\ttrain-logloss:0.00835\teval-logloss:0.06508\n",
      "[421]\ttrain-logloss:0.00834\teval-logloss:0.06508\n",
      "[422]\ttrain-logloss:0.00833\teval-logloss:0.06501\n",
      "[423]\ttrain-logloss:0.00831\teval-logloss:0.06502\n",
      "[424]\ttrain-logloss:0.00830\teval-logloss:0.06503\n",
      "[425]\ttrain-logloss:0.00830\teval-logloss:0.06511\n",
      "[426]\ttrain-logloss:0.00829\teval-logloss:0.06516\n",
      "[427]\ttrain-logloss:0.00828\teval-logloss:0.06521\n",
      "[428]\ttrain-logloss:0.00827\teval-logloss:0.06516\n",
      "[429]\ttrain-logloss:0.00825\teval-logloss:0.06511\n",
      "[430]\ttrain-logloss:0.00824\teval-logloss:0.06513\n",
      "[431]\ttrain-logloss:0.00823\teval-logloss:0.06521\n",
      "[432]\ttrain-logloss:0.00822\teval-logloss:0.06505\n",
      "[433]\ttrain-logloss:0.00821\teval-logloss:0.06511\n",
      "[434]\ttrain-logloss:0.00821\teval-logloss:0.06495\n",
      "[435]\ttrain-logloss:0.00819\teval-logloss:0.06506\n",
      "[436]\ttrain-logloss:0.00817\teval-logloss:0.06516\n",
      "[437]\ttrain-logloss:0.00816\teval-logloss:0.06518\n",
      "[438]\ttrain-logloss:0.00816\teval-logloss:0.06524\n",
      "[439]\ttrain-logloss:0.00815\teval-logloss:0.06528\n",
      "[440]\ttrain-logloss:0.00814\teval-logloss:0.06529\n",
      "[441]\ttrain-logloss:0.00813\teval-logloss:0.06536\n",
      "[442]\ttrain-logloss:0.00812\teval-logloss:0.06546\n",
      "[443]\ttrain-logloss:0.00810\teval-logloss:0.06534\n",
      "[444]\ttrain-logloss:0.00809\teval-logloss:0.06519\n",
      "[445]\ttrain-logloss:0.00808\teval-logloss:0.06527\n",
      "[446]\ttrain-logloss:0.00807\teval-logloss:0.06529\n",
      "[447]\ttrain-logloss:0.00806\teval-logloss:0.06536\n",
      "[448]\ttrain-logloss:0.00805\teval-logloss:0.06540\n",
      "[449]\ttrain-logloss:0.00804\teval-logloss:0.06534\n",
      "[450]\ttrain-logloss:0.00802\teval-logloss:0.06544\n",
      "[451]\ttrain-logloss:0.00801\teval-logloss:0.06534\n",
      "[452]\ttrain-logloss:0.00800\teval-logloss:0.06525\n",
      "[453]\ttrain-logloss:0.00799\teval-logloss:0.06520\n",
      "[454]\ttrain-logloss:0.00799\teval-logloss:0.06527\n",
      "[455]\ttrain-logloss:0.00798\teval-logloss:0.06528\n",
      "[456]\ttrain-logloss:0.00797\teval-logloss:0.06525\n",
      "[457]\ttrain-logloss:0.00796\teval-logloss:0.06527\n",
      "[458]\ttrain-logloss:0.00795\teval-logloss:0.06532\n",
      "[459]\ttrain-logloss:0.00794\teval-logloss:0.06532\n",
      "[460]\ttrain-logloss:0.00793\teval-logloss:0.06543\n",
      "[461]\ttrain-logloss:0.00792\teval-logloss:0.06536\n",
      "[462]\ttrain-logloss:0.00791\teval-logloss:0.06544\n",
      "[463]\ttrain-logloss:0.00791\teval-logloss:0.06547\n",
      "[464]\ttrain-logloss:0.00789\teval-logloss:0.06557\n",
      "[465]\ttrain-logloss:0.00788\teval-logloss:0.06548\n",
      "[466]\ttrain-logloss:0.00787\teval-logloss:0.06543\n",
      "[467]\ttrain-logloss:0.00786\teval-logloss:0.06538\n",
      "[468]\ttrain-logloss:0.00785\teval-logloss:0.06554\n",
      "[469]\ttrain-logloss:0.00784\teval-logloss:0.06559\n",
      "[470]\ttrain-logloss:0.00783\teval-logloss:0.06564\n",
      "[471]\ttrain-logloss:0.00782\teval-logloss:0.06559\n",
      "[472]\ttrain-logloss:0.00781\teval-logloss:0.06574\n",
      "[473]\ttrain-logloss:0.00780\teval-logloss:0.06580\n",
      "[474]\ttrain-logloss:0.00779\teval-logloss:0.06582\n",
      "[475]\ttrain-logloss:0.00778\teval-logloss:0.06573\n",
      "[476]\ttrain-logloss:0.00778\teval-logloss:0.06580\n",
      "[477]\ttrain-logloss:0.00777\teval-logloss:0.06585\n",
      "[478]\ttrain-logloss:0.00776\teval-logloss:0.06585\n",
      "[479]\ttrain-logloss:0.00775\teval-logloss:0.06580\n",
      "[480]\ttrain-logloss:0.00775\teval-logloss:0.06585\n",
      "[481]\ttrain-logloss:0.00774\teval-logloss:0.06579\n",
      "[482]\ttrain-logloss:0.00772\teval-logloss:0.06593\n",
      "[483]\ttrain-logloss:0.00772\teval-logloss:0.06599\n",
      "[484]\ttrain-logloss:0.00771\teval-logloss:0.06601\n",
      "[485]\ttrain-logloss:0.00771\teval-logloss:0.06603\n",
      "[486]\ttrain-logloss:0.00770\teval-logloss:0.06608\n",
      "[487]\ttrain-logloss:0.00769\teval-logloss:0.06609\n",
      "[488]\ttrain-logloss:0.00768\teval-logloss:0.06608\n",
      "[489]\ttrain-logloss:0.00768\teval-logloss:0.06613\n",
      "[490]\ttrain-logloss:0.00767\teval-logloss:0.06627\n",
      "[491]\ttrain-logloss:0.00765\teval-logloss:0.06630\n",
      "[492]\ttrain-logloss:0.00764\teval-logloss:0.06636\n",
      "[493]\ttrain-logloss:0.00763\teval-logloss:0.06650\n",
      "[494]\ttrain-logloss:0.00762\teval-logloss:0.06652\n",
      "[495]\ttrain-logloss:0.00761\teval-logloss:0.06657\n",
      "[496]\ttrain-logloss:0.00760\teval-logloss:0.06671\n",
      "[497]\ttrain-logloss:0.00759\teval-logloss:0.06680\n",
      "[498]\ttrain-logloss:0.00758\teval-logloss:0.06685\n",
      "[499]\ttrain-logloss:0.00757\teval-logloss:0.06691\n"
     ]
    }
   ],
   "source": [
    "wlist = [(dtrain, 'train'), (dtest,'eval')]\n",
    "# 하이퍼 파라미터와 early stopping 파라미터를 train() 함수의 파라미터로 전달\n",
    "xgb_model = xgb.train(params = params, dtrain=dtrain, num_boost_round=num_rounds, evals=wlist)"
   ]
  },
  {
   "cell_type": "code",
   "execution_count": null,
   "metadata": {},
   "outputs": [
    {
     "name": "stdout",
     "output_type": "stream",
     "text": [
      "predict() 수행 결과값을 10개만 표시, 예측 확률 값으로 표시됨\n",
      "[0.024 0.    0.001 0.001 0.001 0.    0.352 0.001 0.    0.   ]\n",
      "예측값 10개만 표시:  [0, 0, 0, 0, 0, 0, 0, 0, 0, 0]\n"
     ]
    }
   ],
   "source": [
    "pred_probs = xgb_model.predict(dtest)\n",
    "print('predict() 수행 결과값을 10개만 표시, 예측 확률 값으로 표시됨')\n",
    "print(np.round(pred_probs[:10], 3))\n",
    "\n",
    "# 예측 확률이 0.5보다 크면 1, 그렇지 않으면 0으로 예측값 결정해 리스트 객체인 preds에 저장\n",
    "preds = [ 1 if x > 0.5 else 0 for x in pred_probs]\n",
    "print('예측값 10개만 표시: ', preds[:10])"
   ]
  },
  {
   "cell_type": "code",
   "execution_count": null,
   "metadata": {},
   "outputs": [],
   "source": [
    "def get_clf_eval(y_test, y_pred):\n",
    "    confusion = confusion_matrix(y_test, y_pred)\n",
    "    accuracy = accuracy_score(y_test, y_pred)\n",
    "    precision = precision_score(y_test, y_pred)\n",
    "    recall = recall_score(y_test, y_pred)\n",
    "    F1 = f1_score(y_test, y_pred)\n",
    "    AUC = roc_auc_score(y_test, y_pred)\n",
    "    print('오차행렬:\\n', confusion)\n",
    "    print('\\n정확도: {:.4f}'.format(accuracy))\n",
    "    print('정밀도: {:.4f}'.format(precision))\n",
    "    print('재현율: {:.4f}'.format(recall))\n",
    "    print('F1: {:.4f}'.format(F1))\n",
    "    print('AUC: {:.4f}'.format(AUC))"
   ]
  },
  {
   "cell_type": "code",
   "execution_count": null,
   "metadata": {},
   "outputs": [
    {
     "name": "stdout",
     "output_type": "stream",
     "text": [
      "오차행렬:\n",
      " [[156   0]\n",
      " [  2   0]]\n",
      "\n",
      "정확도: 0.9873\n",
      "정밀도: 0.0000\n",
      "재현율: 0.0000\n",
      "F1: 0.0000\n",
      "AUC: 0.5000\n"
     ]
    },
    {
     "name": "stderr",
     "output_type": "stream",
     "text": [
      "C:\\Users\\dudtj\\anaconda3\\lib\\site-packages\\sklearn\\metrics\\_classification.py:1245: UndefinedMetricWarning: Precision is ill-defined and being set to 0.0 due to no predicted samples. Use `zero_division` parameter to control this behavior.\n",
      "  _warn_prf(average, modifier, msg_start, len(result))\n"
     ]
    }
   ],
   "source": [
    "get_clf_eval(y_test, preds)"
   ]
  },
  {
   "cell_type": "code",
   "execution_count": null,
   "metadata": {},
   "outputs": [],
   "source": [
    "from sklearn.datasets import load_boston\n",
    "import xgboost\n",
    "import matplotlib.pyplot as plt\n",
    "from sklearn.model_selection import train_test_split\n",
    "from sklearn.metrics import explained_variance_score"
   ]
  },
  {
   "cell_type": "code",
   "execution_count": null,
   "metadata": {},
   "outputs": [],
   "source": [
    "xgb_model = xgboost.XGBRegressor(n_estimators=100, learning_rate=0.08, gamma=0, subsample=0.75,\n",
    "                           colsample_bytree=1, max_depth=7)"
   ]
  },
  {
   "cell_type": "code",
   "execution_count": null,
   "metadata": {},
   "outputs": [
    {
     "name": "stdout",
     "output_type": "stream",
     "text": [
      "630 158\n"
     ]
    },
    {
     "data": {
      "text/plain": [
       "XGBRegressor(base_score=0.5, booster='gbtree', colsample_bylevel=1,\n",
       "             colsample_bynode=1, colsample_bytree=1, gamma=0, gpu_id=-1,\n",
       "             importance_type='gain', interaction_constraints='',\n",
       "             learning_rate=0.08, max_delta_step=0, max_depth=7,\n",
       "             min_child_weight=1, missing=nan, monotone_constraints='()',\n",
       "             n_estimators=100, n_jobs=8, num_parallel_tree=1, random_state=0,\n",
       "             reg_alpha=0, reg_lambda=1, scale_pos_weight=1, subsample=0.75,\n",
       "             tree_method='exact', validate_parameters=1, verbosity=None)"
      ]
     },
     "execution_count": 154,
     "metadata": {},
     "output_type": "execute_result"
    }
   ],
   "source": [
    "print(len(X_train), len(X_test))\n",
    "xgb_model.fit(X_train,y_train)"
   ]
  },
  {
   "cell_type": "code",
   "execution_count": null,
   "metadata": {},
   "outputs": [
    {
     "data": {
      "text/plain": [
       "<AxesSubplot:title={'center':'Feature importance'}, xlabel='F score', ylabel='Features'>"
      ]
     },
     "execution_count": 155,
     "metadata": {},
     "output_type": "execute_result"
    },
    {
     "data": {
      "image/png": "[encoded data removed]",
      "text/plain": [
       "<Figure size 432x288 with 1 Axes>"
      ]
     },
     "metadata": {
      "needs_background": "light"
     },
     "output_type": "display_data"
    }
   ],
   "source": [
    "xgboost.plot_importance(xgb_model)"
   ]
  },
  {
   "cell_type": "code",
   "execution_count": null,
   "metadata": {},
   "outputs": [],
   "source": [
    "y_pred = xgb_model.predict(X_test)\n",
    "predictions = [round(value) for value in y_pred]"
   ]
  },
  {
   "cell_type": "code",
   "execution_count": null,
   "metadata": {},
   "outputs": [
    {
     "data": {
      "text/plain": [
       "0.02469246000859276"
      ]
     },
     "execution_count": 157,
     "metadata": {},
     "output_type": "execute_result"
    }
   ],
   "source": [
    "from sklearn.metrics import mean_squared_error\n",
    "mean_squared_error(y_test, y_pred)"
   ]
  },
  {
   "cell_type": "code",
   "execution_count": null,
   "metadata": {},
   "outputs": [
    {
     "name": "stdout",
     "output_type": "stream",
     "text": [
      "Accuracy: 96.84%\n"
     ]
    }
   ],
   "source": [
    "# accuracy\n",
    "accuracy = accuracy_score(y_test, predictions)\n",
    "print(\"Accuracy: %.2f%%\" % (accuracy * 100.0))"
   ]
  },
  {
   "cell_type": "code",
   "execution_count": null,
   "metadata": {},
   "outputs": [],
   "source": [
    "from sklearn.preprocessing import StandardScaler\n",
    "sc = StandardScaler()\n",
    "x_train = sc.fit_transform(X_train)\n",
    "x_test = sc.transform(X_test)"
   ]
  },
  {
   "cell_type": "code",
   "execution_count": null,
   "metadata": {},
   "outputs": [
    {
     "name": "stdout",
     "output_type": "stream",
     "text": [
      "[LightGBM] [Info] Number of positive: 21, number of negative: 609\n",
      "[LightGBM] [Warning] Auto-choosing col-wise multi-threading, the overhead of testing was 0.000118 seconds.\n",
      "You can set `force_col_wise=true` to remove the overhead.\n",
      "[LightGBM] [Info] Total Bins 772\n",
      "[LightGBM] [Info] Number of data points in the train set: 630, number of used features: 10\n",
      "[LightGBM] [Info] [binary:BoostFromScore]: pavg=0.033333 -> initscore=-3.367296\n",
      "[LightGBM] [Info] Start training from score -3.367296\n",
      "[LightGBM] [Warning] No further splits with positive gain, best gain: -inf\n",
      "[LightGBM] [Warning] No further splits with positive gain, best gain: -inf\n",
      "[LightGBM] [Warning] No further splits with positive gain, best gain: -inf\n",
      "[LightGBM] [Warning] No further splits with positive gain, best gain: -inf\n",
      "[LightGBM] [Warning] No further splits with positive gain, best gain: -inf\n",
      "[LightGBM] [Warning] No further splits with positive gain, best gain: -inf\n",
      "[LightGBM] [Warning] No further splits with positive gain, best gain: -inf\n",
      "[LightGBM] [Warning] No further splits with positive gain, best gain: -inf\n",
      "[LightGBM] [Warning] No further splits with positive gain, best gain: -inf\n",
      "[LightGBM] [Warning] No further splits with positive gain, best gain: -inf\n",
      "[LightGBM] [Warning] No further splits with positive gain, best gain: -inf\n",
      "[LightGBM] [Warning] No further splits with positive gain, best gain: -inf\n",
      "[LightGBM] [Warning] No further splits with positive gain, best gain: -inf\n",
      "[LightGBM] [Warning] No further splits with positive gain, best gain: -inf\n",
      "[LightGBM] [Warning] No further splits with positive gain, best gain: -inf\n",
      "[LightGBM] [Warning] No further splits with positive gain, best gain: -inf\n",
      "[LightGBM] [Warning] No further splits with positive gain, best gain: -inf\n",
      "[LightGBM] [Warning] No further splits with positive gain, best gain: -inf\n",
      "[LightGBM] [Warning] No further splits with positive gain, best gain: -inf\n",
      "[LightGBM] [Warning] No further splits with positive gain, best gain: -inf\n",
      "[LightGBM] [Warning] No further splits with positive gain, best gain: -inf\n",
      "[LightGBM] [Warning] No further splits with positive gain, best gain: -inf\n",
      "[LightGBM] [Warning] No further splits with positive gain, best gain: -inf\n",
      "[LightGBM] [Warning] No further splits with positive gain, best gain: -inf\n",
      "[LightGBM] [Warning] No further splits with positive gain, best gain: -inf\n",
      "[LightGBM] [Warning] No further splits with positive gain, best gain: -inf\n",
      "[LightGBM] [Warning] No further splits with positive gain, best gain: -inf\n",
      "[LightGBM] [Warning] No further splits with positive gain, best gain: -inf\n",
      "[LightGBM] [Warning] No further splits with positive gain, best gain: -inf\n",
      "[LightGBM] [Warning] No further splits with positive gain, best gain: -inf\n",
      "[LightGBM] [Warning] No further splits with positive gain, best gain: -inf\n",
      "[LightGBM] [Warning] No further splits with positive gain, best gain: -inf\n",
      "[LightGBM] [Warning] No further splits with positive gain, best gain: -inf\n",
      "[LightGBM] [Warning] No further splits with positive gain, best gain: -inf\n",
      "[LightGBM] [Warning] No further splits with positive gain, best gain: -inf\n",
      "[LightGBM] [Warning] No further splits with positive gain, best gain: -inf\n",
      "[LightGBM] [Warning] No further splits with positive gain, best gain: -inf\n"
     ]
    }
   ],
   "source": [
    "import lightgbm as lgb\n",
    "d_train = lgb.Dataset(X_train, label=y_train)\n",
    "params = {}\n",
    "params['learning_rate'] = 0.003\n",
    "params['boosting_type'] = 'gbdt'\n",
    "params['objective'] = 'binary'\n",
    "params['metric'] = 'binary_logloss'\n",
    "params['sub_feature'] = 0.5\n",
    "params['num_leaves'] = 10\n",
    "params['min_data'] = 50\n",
    "params['max_depth'] = 10\n",
    "clf = lgb.train(params, d_train, 100)"
   ]
  },
  {
   "cell_type": "code",
   "execution_count": null,
   "metadata": {},
   "outputs": [],
   "source": [
    "y_pred=clf.predict(X_test)\n",
    "#convert into binary values\n",
    "for i in range(0,99):\n",
    "    if y_pred[i]>=.5:       # setting threshold to .5\n",
    "       y_pred[i]=1\n",
    "    else:  \n",
    "       y_pred[i]=0"
   ]
  },
  {
   "cell_type": "code",
   "execution_count": null,
   "metadata": {},
   "outputs": [
    {
     "ename": "ValueError",
     "evalue": "Classification metrics can't handle a mix of binary and continuous targets",
     "output_type": "error",
     "traceback": [
      "\u001b[1;31m---------------------------------------------------------------------------\u001b[0m",
      "\u001b[1;31mValueError\u001b[0m                                Traceback (most recent call last)",
      "\u001b[1;32m<ipython-input-163-379523a12a19>\u001b[0m in \u001b[0;36m<module>\u001b[1;34m\u001b[0m\n\u001b[0;32m      1\u001b[0m \u001b[1;31m#Confusion matrix\u001b[0m\u001b[1;33m\u001b[0m\u001b[1;33m\u001b[0m\u001b[1;33m\u001b[0m\u001b[0m\n\u001b[0;32m      2\u001b[0m \u001b[1;32mfrom\u001b[0m \u001b[0msklearn\u001b[0m\u001b[1;33m.\u001b[0m\u001b[0mmetrics\u001b[0m \u001b[1;32mimport\u001b[0m \u001b[0mconfusion_matrix\u001b[0m\u001b[1;33m\u001b[0m\u001b[1;33m\u001b[0m\u001b[0m\n\u001b[1;32m----> 3\u001b[1;33m \u001b[0mcm\u001b[0m \u001b[1;33m=\u001b[0m \u001b[0mconfusion_matrix\u001b[0m\u001b[1;33m(\u001b[0m\u001b[0my_test\u001b[0m\u001b[1;33m,\u001b[0m \u001b[0my_pred\u001b[0m\u001b[1;33m)\u001b[0m\u001b[1;33m\u001b[0m\u001b[1;33m\u001b[0m\u001b[0m\n\u001b[0m\u001b[0;32m      4\u001b[0m \u001b[1;31m#Accuracy\u001b[0m\u001b[1;33m\u001b[0m\u001b[1;33m\u001b[0m\u001b[1;33m\u001b[0m\u001b[0m\n\u001b[0;32m      5\u001b[0m \u001b[1;32mfrom\u001b[0m \u001b[0msklearn\u001b[0m\u001b[1;33m.\u001b[0m\u001b[0mmetrics\u001b[0m \u001b[1;32mimport\u001b[0m \u001b[0maccuracy_score\u001b[0m\u001b[1;33m\u001b[0m\u001b[1;33m\u001b[0m\u001b[0m\n",
      "\u001b[1;32m~\\anaconda3\\lib\\site-packages\\sklearn\\utils\\validation.py\u001b[0m in \u001b[0;36minner_f\u001b[1;34m(*args, **kwargs)\u001b[0m\n\u001b[0;32m     61\u001b[0m             \u001b[0mextra_args\u001b[0m \u001b[1;33m=\u001b[0m \u001b[0mlen\u001b[0m\u001b[1;33m(\u001b[0m\u001b[0margs\u001b[0m\u001b[1;33m)\u001b[0m \u001b[1;33m-\u001b[0m \u001b[0mlen\u001b[0m\u001b[1;33m(\u001b[0m\u001b[0mall_args\u001b[0m\u001b[1;33m)\u001b[0m\u001b[1;33m\u001b[0m\u001b[1;33m\u001b[0m\u001b[0m\n\u001b[0;32m     62\u001b[0m             \u001b[1;32mif\u001b[0m \u001b[0mextra_args\u001b[0m \u001b[1;33m<=\u001b[0m \u001b[1;36m0\u001b[0m\u001b[1;33m:\u001b[0m\u001b[1;33m\u001b[0m\u001b[1;33m\u001b[0m\u001b[0m\n\u001b[1;32m---> 63\u001b[1;33m                 \u001b[1;32mreturn\u001b[0m \u001b[0mf\u001b[0m\u001b[1;33m(\u001b[0m\u001b[1;33m*\u001b[0m\u001b[0margs\u001b[0m\u001b[1;33m,\u001b[0m \u001b[1;33m**\u001b[0m\u001b[0mkwargs\u001b[0m\u001b[1;33m)\u001b[0m\u001b[1;33m\u001b[0m\u001b[1;33m\u001b[0m\u001b[0m\n\u001b[0m\u001b[0;32m     64\u001b[0m \u001b[1;33m\u001b[0m\u001b[0m\n\u001b[0;32m     65\u001b[0m             \u001b[1;31m# extra_args > 0\u001b[0m\u001b[1;33m\u001b[0m\u001b[1;33m\u001b[0m\u001b[1;33m\u001b[0m\u001b[0m\n",
      "\u001b[1;32m~\\anaconda3\\lib\\site-packages\\sklearn\\metrics\\_classification.py\u001b[0m in \u001b[0;36mconfusion_matrix\u001b[1;34m(y_true, y_pred, labels, sample_weight, normalize)\u001b[0m\n\u001b[0;32m    294\u001b[0m \u001b[1;33m\u001b[0m\u001b[0m\n\u001b[0;32m    295\u001b[0m     \"\"\"\n\u001b[1;32m--> 296\u001b[1;33m     \u001b[0my_type\u001b[0m\u001b[1;33m,\u001b[0m \u001b[0my_true\u001b[0m\u001b[1;33m,\u001b[0m \u001b[0my_pred\u001b[0m \u001b[1;33m=\u001b[0m \u001b[0m_check_targets\u001b[0m\u001b[1;33m(\u001b[0m\u001b[0my_true\u001b[0m\u001b[1;33m,\u001b[0m \u001b[0my_pred\u001b[0m\u001b[1;33m)\u001b[0m\u001b[1;33m\u001b[0m\u001b[1;33m\u001b[0m\u001b[0m\n\u001b[0m\u001b[0;32m    297\u001b[0m     \u001b[1;32mif\u001b[0m \u001b[0my_type\u001b[0m \u001b[1;32mnot\u001b[0m \u001b[1;32min\u001b[0m \u001b[1;33m(\u001b[0m\u001b[1;34m\"binary\"\u001b[0m\u001b[1;33m,\u001b[0m \u001b[1;34m\"multiclass\"\u001b[0m\u001b[1;33m)\u001b[0m\u001b[1;33m:\u001b[0m\u001b[1;33m\u001b[0m\u001b[1;33m\u001b[0m\u001b[0m\n\u001b[0;32m    298\u001b[0m         \u001b[1;32mraise\u001b[0m \u001b[0mValueError\u001b[0m\u001b[1;33m(\u001b[0m\u001b[1;34m\"%s is not supported\"\u001b[0m \u001b[1;33m%\u001b[0m \u001b[0my_type\u001b[0m\u001b[1;33m)\u001b[0m\u001b[1;33m\u001b[0m\u001b[1;33m\u001b[0m\u001b[0m\n",
      "\u001b[1;32m~\\anaconda3\\lib\\site-packages\\sklearn\\metrics\\_classification.py\u001b[0m in \u001b[0;36m_check_targets\u001b[1;34m(y_true, y_pred)\u001b[0m\n\u001b[0;32m     90\u001b[0m \u001b[1;33m\u001b[0m\u001b[0m\n\u001b[0;32m     91\u001b[0m     \u001b[1;32mif\u001b[0m \u001b[0mlen\u001b[0m\u001b[1;33m(\u001b[0m\u001b[0my_type\u001b[0m\u001b[1;33m)\u001b[0m \u001b[1;33m>\u001b[0m \u001b[1;36m1\u001b[0m\u001b[1;33m:\u001b[0m\u001b[1;33m\u001b[0m\u001b[1;33m\u001b[0m\u001b[0m\n\u001b[1;32m---> 92\u001b[1;33m         raise ValueError(\"Classification metrics can't handle a mix of {0} \"\n\u001b[0m\u001b[0;32m     93\u001b[0m                          \"and {1} targets\".format(type_true, type_pred))\n\u001b[0;32m     94\u001b[0m \u001b[1;33m\u001b[0m\u001b[0m\n",
      "\u001b[1;31mValueError\u001b[0m: Classification metrics can't handle a mix of binary and continuous targets"
     ]
    }
   ],
   "source": [
    "#Confusion matrix\n",
    "from sklearn.metrics import confusion_matrix\n",
    "cm = confusion_matrix(y_test, y_pred)\n",
    "#Accuracy\n",
    "from sklearn.metrics import accuracy_score\n",
    "accuracy=accuracy_score(y_pred,y_test)"
   ]
  }
 ],
 "metadata": {
  "interpreter": {
   "hash": "e017a947ed1cbd98d6fb4aec7d9beab0ece45773d45accafee45474853a8cce5"
  },
  "kernelspec": {
   "display_name": "Python 3.8.8 64-bit ('base': conda)",
   "language": "python",
   "name": "python3"
  },
  "language_info": {
   "codemirror_mode": {
    "name": "ipython",
    "version": 3
   },
   "file_extension": ".py",
   "mimetype": "text/x-python",
   "name": "python",
   "nbconvert_exporter": "python",
   "pygments_lexer": "ipython3",
   "version": "3.8.8"
  },
  "orig_nbformat": 4
 },
 "nbformat": 4,
 "nbformat_minor": 2
}
